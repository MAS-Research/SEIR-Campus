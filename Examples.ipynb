{
 "cells": [
  {
   "cell_type": "markdown",
   "metadata": {},
   "source": [
    "# SEIR-Campus Examples\n",
    "\n",
    "This file illustrates some of the examples from the corresponding paper on the SEIR-Courses package.  Many of the function here call on classes inside the SEIR-Courses package.  We encourage you to look inside the package and explore!\n",
    "\n",
    "The data file that comes in the examples, publicdata.data, is based on course network published by Weeden and Cornwell at https://osf.io/6kuet/.  Course names, as well as some student demographic information, and varsity athlete ids have been assigned randomly and are not accurate representations of student demographics and varsity athletics at Cornell University."
   ]
  },
  {
   "cell_type": "code",
   "execution_count": null,
   "metadata": {},
   "outputs": [],
   "source": [
    "from datetime import datetime, timedelta\n",
    "from PySeirCampus import *"
   ]
  },
  {
   "cell_type": "markdown",
   "metadata": {},
   "source": [
    "### Load the data for the simulations."
   ]
  },
  {
   "cell_type": "code",
   "execution_count": null,
   "metadata": {},
   "outputs": [],
   "source": [
    "holiday_list = [(2020, 10, 14)]\n",
    "holidays = set(datetime(*h) for h in holiday_list)\n",
    "semester = Semester('publicdata.data', holidays)"
   ]
  },
  {
   "cell_type": "markdown",
   "metadata": {},
   "source": [
    "### Run a first simulation!"
   ]
  },
  {
   "cell_type": "code",
   "execution_count": null,
   "metadata": {},
   "outputs": [],
   "source": [
    "parameters = Parameters(reps = 10)\n",
    "run_repetitions(semester, parameters)"
   ]
  },
  {
   "cell_type": "markdown",
   "metadata": {},
   "source": [
    "### Example when no one self reports/shows symptoms."
   ]
  },
  {
   "cell_type": "code",
   "execution_count": null,
   "metadata": {},
   "outputs": [],
   "source": [
    "parameters = Parameters(reps = 10)\n",
    "parameters.infection_duration = BasicInfectionDuration(1 / 3.5, 1 / 4.5)\n",
    "run_repetitions(semester, parameters)"
   ]
  },
  {
   "cell_type": "markdown",
   "metadata": {},
   "source": [
    "### Example of infection testing"
   ]
  },
  {
   "cell_type": "code",
   "execution_count": null,
   "metadata": {},
   "outputs": [],
   "source": [
    "parameters = Parameters(reps = 10)\n",
    "parameters.intervention_policy = IpWeekdayTesting(semester)\n",
    "run_repetitions(semester, parameters)"
   ]
  },
  {
   "cell_type": "markdown",
   "metadata": {},
   "source": [
    "### Example with Contact Tracing and Quarantines"
   ]
  },
  {
   "cell_type": "code",
   "execution_count": null,
   "metadata": {},
   "outputs": [],
   "source": [
    "parameters = Parameters(reps = 10)\n",
    "parameters.contact_tracing = BasicContactTracing(14)\n",
    "run_repetitions(semester, parameters)"
   ]
  },
  {
   "cell_type": "markdown",
   "metadata": {},
   "source": [
    "### Example with hybrid classes"
   ]
  },
  {
   "cell_type": "code",
   "execution_count": null,
   "metadata": {},
   "outputs": [],
   "source": [
    "semester_alt_hybrid = make_alternate_hybrid(semester)\n",
    "parameters = Parameters(reps = 10)\n",
    "run_repetitions(semester_alt_hybrid, parameters)"
   ]
  },
  {
   "cell_type": "markdown",
   "metadata": {},
   "source": [
    "### Building social groups.\n",
    "\n",
    "For proper randomization, these groups should be recreated for each simulation repetition using the preprocess feature in the parameters.  However, this can add significant time to the computations.\n",
    "\n",
    "First, consider generating random clusters of students each day."
   ]
  },
  {
   "cell_type": "code",
   "execution_count": null,
   "metadata": {},
   "outputs": [],
   "source": [
    "settings = ClusterSettings(\n",
    "        start_date = min(semester.meeting_dates), end_date = max(semester.meeting_dates),\n",
    "        weekday_group_count = 280, weekday_group_size = 10, weekday_group_time = 120,\n",
    "        weekend_group_count = 210, weekend_group_size = 20, weekend_group_time = 180)\n",
    "\n",
    "def groups_random(semester):\n",
    "    clusters = make_randomized_clusters(semester.students, settings)\n",
    "    return make_from_clusters(semester, clusters)\n",
    "\n",
    "parameters = Parameters(reps = 10)\n",
    "parameters.preprocess = groups_random\n",
    "run_repetitions(semester, parameters)"
   ]
  },
  {
   "cell_type": "markdown",
   "metadata": {},
   "source": [
    "Next, consider when some students form pairs."
   ]
  },
  {
   "cell_type": "code",
   "execution_count": null,
   "metadata": {},
   "outputs": [],
   "source": [
    "def pairing(semester):\n",
    "    clusters, _ = make_social_groups_pairs(semester, 0.25, interaction_time = 1200, \n",
    "                                           weighted=False)\n",
    "    return make_from_clusters(semester, clusters)\n",
    "\n",
    "parameters = Parameters(reps = 10)\n",
    "parameters.preprocess = pairing\n",
    "run_repetitions(semester, parameters)"
   ]
  },
  {
   "cell_type": "markdown",
   "metadata": {},
   "source": [
    "Next, we consider social interactions among varsity athletes.  In the first case, we assume that new social clusters are formed within teams each day."
   ]
  },
  {
   "cell_type": "code",
   "execution_count": null,
   "metadata": {},
   "outputs": [],
   "source": [
    "def groups_varsity(semester):\n",
    "        clusters, processed = make_social_groups_varsity(semester, 6, 240, 6, 240)\n",
    "        return make_from_clusters(semester, clusters)\n",
    "\n",
    "parameters = Parameters(reps = 10)\n",
    "parameters.preprocess = groups_varsity\n",
    "run_repetitions(semester, parameters)"
   ]
  },
  {
   "cell_type": "markdown",
   "metadata": {},
   "source": [
    "Finally, we consider varsity teams again but assume that the athletes keep socialization within the same cluster of people each day."
   ]
  },
  {
   "cell_type": "code",
   "execution_count": null,
   "metadata": {},
   "outputs": [],
   "source": [
    "def groups_static_varsity(semester):\n",
    "        clusters, processed = make_social_groups_varsity_static(semester, 6, 240)\n",
    "        return make_from_clusters(semester, clusters)\n",
    "\n",
    "parameters = Parameters(reps = 10)\n",
    "parameters.preprocess = groups_static_varsity\n",
    "run_repetitions(semester, parameters)"
   ]
  },
  {
   "cell_type": "markdown",
   "metadata": {},
   "source": [
    "## Other ways to explore\n",
    "\n",
    "Here are some other ideas for how to play around with the simulations!\n",
    "\n",
    "Try changing the infection rate.  Here we retry the first simulation, but with 10% lower infection rate."
   ]
  },
  {
   "cell_type": "code",
   "execution_count": null,
   "metadata": {},
   "outputs": [],
   "source": [
    "def test_infection_sensitivity(semester, delta):\n",
    "    parameters = Parameters(reps = 10)\n",
    "    parameters.rate *= (1 + delta)\n",
    "    run_repetitions(semester, parameters)\n",
    "\n",
    "test_infection_sensitivity(semester, -0.10)"
   ]
  },
  {
   "cell_type": "markdown",
   "metadata": {},
   "source": [
    "Suppose that the percentage of students that are asymptomatic is now 50% instead of 75%."
   ]
  },
  {
   "cell_type": "code",
   "execution_count": null,
   "metadata": {},
   "outputs": [],
   "source": [
    "def test_asymptomatic(semester, ratio):\n",
    "    parameters = Parameters(reps = 10)\n",
    "    parameters.infection_duration = VariedResponse(1 / 3.5, 1 / 4.5, 1 / 2, ratio)\n",
    "    run_repetitions(semester, parameters)\n",
    "\n",
    "test_asymptomatic(semester, 0.5)"
   ]
  },
  {
   "cell_type": "markdown",
   "metadata": {},
   "source": [
    "Eliminate external sources of exposure."
   ]
  },
  {
   "cell_type": "code",
   "execution_count": null,
   "metadata": {},
   "outputs": [],
   "source": [
    "def test_outsideclass(semester, increase_factor):\n",
    "    parameters = Parameters(reps = 10)\n",
    "    parameters.daily_spontaneous_prob *= increase_factor\n",
    "    run_repetitions(semester, parameters)\n",
    "    \n",
    "test_outsideclass(semester, 0)"
   ]
  },
  {
   "cell_type": "markdown",
   "metadata": {},
   "source": [
    "Change the number of initial infections from 10 to 0 (reasonable if arrival testing is conducted)."
   ]
  },
  {
   "cell_type": "code",
   "execution_count": null,
   "metadata": {},
   "outputs": [],
   "source": [
    "def test_initialconditions(semester, initial_change):\n",
    "    parameters = Parameters(reps = 10)\n",
    "    parameters.initial_exposure *= initial_change\n",
    "    run_repetitions(semester, parameters)\n",
    "    \n",
    "test_initialconditions(semester, 0)"
   ]
  },
  {
   "cell_type": "markdown",
   "metadata": {},
   "source": [
    "Test students once per week, on Sunday."
   ]
  },
  {
   "cell_type": "code",
   "execution_count": null,
   "metadata": {},
   "outputs": [],
   "source": [
    "def test_test_onceperweek(semester, weekday = 0):\n",
    "    parameters = Parameters(reps = 10)\n",
    "    parameters.intervention_policy = IpWeeklyTesting(semester, weekday = weekday)\n",
    "    run_repetitions(semester, parameters)\n",
    "\n",
    "test_test_onceperweek(semester, weekday = 6)"
   ]
  },
  {
   "cell_type": "markdown",
   "metadata": {},
   "source": [
    "Test students one per week, on Monday."
   ]
  },
  {
   "cell_type": "code",
   "execution_count": null,
   "metadata": {},
   "outputs": [],
   "source": [
    "test_test_onceperweek(semester, weekday = 0)"
   ]
  },
  {
   "cell_type": "code",
   "execution_count": null,
   "metadata": {},
   "outputs": [],
   "source": []
  }
 ],
 "metadata": {
  "kernelspec": {
   "display_name": "Python 3",
   "language": "python",
   "name": "python3"
  },
  "language_info": {
   "codemirror_mode": {
    "name": "ipython",
    "version": 3
   },
   "file_extension": ".py",
   "mimetype": "text/x-python",
   "name": "python",
   "nbconvert_exporter": "python",
   "pygments_lexer": "ipython3",
   "version": "3.7.7"
  }
 },
 "nbformat": 4,
 "nbformat_minor": 4
}
